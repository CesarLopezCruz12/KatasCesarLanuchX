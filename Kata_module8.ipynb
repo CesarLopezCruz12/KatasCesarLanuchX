{
 "cells": [
  {
   "cell_type": "code",
   "execution_count": null,
   "metadata": {},
   "outputs": [],
   "source": [
    "nombre = input(\"Escriba el nombre del planeta\")\n",
    "luna = input(\"Escrbia el número de lunas que tiene\")\n",
    "\n",
    "demo = {\n",
    "    name: Mars,\n",
    "    moons: 2\n",
    "}"
   ]
  }
 ],
 "metadata": {
  "language_info": {
   "name": "python"
  },
  "orig_nbformat": 4
 },
 "nbformat": 4,
 "nbformat_minor": 2
}
