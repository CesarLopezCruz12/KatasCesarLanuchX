{
 "cells": [
  {
   "cell_type": "code",
   "execution_count": 4,
   "metadata": {},
   "outputs": [
    {
     "name": "stdout",
     "output_type": "stream",
     "text": [
      "628949330 Km\n",
      "390577533.93 mi\n"
     ]
    }
   ],
   "source": [
    "dis_Tierra = 149597870\n",
    "dis_Jupiter = 778547200\n",
    "\n",
    "dis_planetas = dis_Jupiter - dis_Tierra\n",
    "print(str(dis_planetas) + \" Km\")\n",
    "dis_planetas_millas = dis_planetas * 0.621\n",
    "print(str(dis_planetas_millas) + \" mi\")"
   ]
  },
  {
   "cell_type": "code",
   "execution_count": 7,
   "metadata": {},
   "outputs": [
    {
     "name": "stdout",
     "output_type": "stream",
     "text": [
      "720647200 Km\n",
      "720647200 Km\n",
      "447521911.2 mi\n"
     ]
    }
   ],
   "source": [
    "#Mercurio\n",
    "dis_Tierra = input(\"Ingresa la distacia del Sol a la Tierra:  \")\n",
    "dis_Jupiter = input(\"Ingresa la distacia del Sol a Jupiter: \")\n",
    "\n",
    "dis_planetas = abs(int(dis_Jupiter) - int(dis_Tierra))\n",
    "dis_planetas_invertido = abs(int(dis_Tierra) - int(dis_Jupiter))\n",
    "print(str(dis_planetas) + \" Km\")\n",
    "print(str(dis_planetas_invertido) + \" Km\")\n",
    "dis_planetas_millas = dis_planetas * 0.621\n",
    "print(str(dis_planetas_millas) + \" mi\")"
   ]
  }
 ],
 "metadata": {
  "interpreter": {
   "hash": "33541a670e8887513ebdf0f19cec6625b51694c5ef6b1c7e83282c54d5cd54e5"
  },
  "kernelspec": {
   "display_name": "Python 3.10.2 64-bit",
   "language": "python",
   "name": "python3"
  },
  "language_info": {
   "codemirror_mode": {
    "name": "ipython",
    "version": 3
   },
   "file_extension": ".py",
   "mimetype": "text/x-python",
   "name": "python",
   "nbconvert_exporter": "python",
   "pygments_lexer": "ipython3",
   "version": "3.10.2"
  },
  "orig_nbformat": 4
 },
 "nbformat": 4,
 "nbformat_minor": 2
}
