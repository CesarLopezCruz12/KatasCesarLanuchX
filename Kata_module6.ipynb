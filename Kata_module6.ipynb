{
 "cells": [
  {
   "cell_type": "code",
   "execution_count": 8,
   "metadata": {},
   "outputs": [
    {
     "name": "stdout",
     "output_type": "stream",
     "text": [
      "['Mercurio', 'Venus', 'Tierra', 'MArte', 'Jupiter', 'Saturno', 'Urano', 'Neptuno']\n"
     ]
    }
   ],
   "source": [
    "planets = []\n",
    "for i in range (8):\n",
    "    planet = input(\"Ingresa el planeta en la posición \" + str(i))\n",
    "    planets.append(planet)\n",
    "\n",
    "print(planets)"
   ]
  },
  {
   "cell_type": "code",
   "execution_count": 10,
   "metadata": {},
   "outputs": [
    {
     "name": "stdout",
     "output_type": "stream",
     "text": [
      "['Mercurio', 'Venus', 'Tierra', 'MArte', 'Jupiter', 'Saturno', 'Urano', 'Neptuno', 'Pluton']\n"
     ]
    }
   ],
   "source": [
    "planets.append(\"Pluton\")\n",
    "print(planets)"
   ]
  },
  {
   "cell_type": "code",
   "execution_count": 23,
   "metadata": {},
   "outputs": [
    {
     "name": "stdout",
     "output_type": "stream",
     "text": [
      "La posición del planeta: Tierra es: 2\n",
      "y se encuentra entre los planetas:Venus y MArte\n"
     ]
    }
   ],
   "source": [
    "busq_planeta = input(\"Nombra a un planeta conocido\")\n",
    "pos = int(planets.index(busq_planeta))\n",
    "posantes = pos-1\n",
    "posdepues = pos+1\n",
    "print(\"\"\"La posición del planeta: {busq_planeta} es: {pos}\"\"\".format(busq_planeta = busq_planeta, pos= pos))                        \n",
    "print(\"y se encuentra entre los planetas:\" + planets[pos-1] + \" y \" + planets[pos+1])"
   ]
  },
  {
   "cell_type": "code",
   "execution_count": 24,
   "metadata": {},
   "outputs": [
    {
     "name": "stdout",
     "output_type": "stream",
     "text": [
      "El planeta más lejano al sol es: Pluton\n"
     ]
    }
   ],
   "source": [
    "print(\"El planeta más lejano al sol es: \" + planets[-1])"
   ]
  }
 ],
 "metadata": {
  "interpreter": {
   "hash": "33541a670e8887513ebdf0f19cec6625b51694c5ef6b1c7e83282c54d5cd54e5"
  },
  "kernelspec": {
   "display_name": "Python 3.10.2 64-bit",
   "language": "python",
   "name": "python3"
  },
  "language_info": {
   "codemirror_mode": {
    "name": "ipython",
    "version": 3
   },
   "file_extension": ".py",
   "mimetype": "text/x-python",
   "name": "python",
   "nbconvert_exporter": "python",
   "pygments_lexer": "ipython3",
   "version": "3.10.2"
  },
  "orig_nbformat": 4
 },
 "nbformat": 4,
 "nbformat_minor": 2
}
