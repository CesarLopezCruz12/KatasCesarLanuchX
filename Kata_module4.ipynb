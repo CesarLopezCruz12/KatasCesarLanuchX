{
 "cells": [
  {
   "cell_type": "code",
   "execution_count": 41,
   "metadata": {},
   "outputs": [
    {
     "name": "stdout",
     "output_type": "stream",
     "text": [
      "['Interesting facts about the Moon', \" The Moon is Earth's only satellite\", ' There are several interesting facts about the Moon and how it affects life here on Earth', ' \",        \"On average, the Moon moves 4cm away from the Earth every year', ' This yearly drift is not significant enough to cause immediate effects on Earth', ' The highest daylight temperature of the Moon is 127 C', '']\n",
      "Se ha encontrado la palabra en la oración: 1\n",
      "Se ha encontrado la palabra en la oración: 3\n",
      "Se ha encontrado la palabraaverage en la oración: 1\n",
      "Se ha encontrado la palabratemperature en la oración: 1\n",
      "Interesting facts about the Moon\n",
      " The Moon is Earth's only satellite\n",
      " There are several interesting facts about the Moon and how it affects life here on Earth\n",
      " \",        \"On average, the Moon moves 4cm away from the Earth every year\n",
      " The highest daylight temperature of the Moon is 127 C\n",
      "['Interesting facts about the Moon', \" The Moon is Earth's only satellite\", ' There are several interesting facts about the Moon and how it affects life here on Earth', ' \",        \"On average, the Moon moves 4cm away from the Earth every year', ' This yearly drift is not significant enough to cause immediate effects on Earth', ' The highest daylight temperature of the Moon is 127 C', '']\n"
     ]
    }
   ],
   "source": [
    "text = \"\"\"Interesting facts about the Moon. The Moon is Earth's only satellite. There are several interesting facts about the Moon and how it affects life here on Earth. \\n\",\n",
    "        \"On average, the Moon moves 4cm away from the Earth every year. This yearly drift is not significant enough to cause immediate effects on Earth. The highest daylight temperature of the Moon is 127 C.\"\"\"\n",
    "text_div = text.split(\".\")\n",
    "cont = 0\n",
    "for n in text_div:\n",
    "    text_div[cont] = text_div[cont].replace('\\n','')\n",
    "    cont += 1\n",
    "print(text_div)\n",
    "\n",
    "busq = input(\"Ingrese la palabra a buscar\")\n",
    "cont = 0\n",
    "busq_pal = [\"average\", \"temperature\", \"distance\"]\n",
    "for n in text_div:\n",
    "    encon = 0\n",
    "    encon = n.find(busq)\n",
    "    if(encon > 0):\n",
    "        print(\"Se ha encontrado la palabra en la oración: \" + str(cont))\n",
    "\n",
    "for n in text_div:\n",
    "    for p in busq_pal:\n",
    "        encon = 0\n",
    "        encon = n.find(p)\n",
    "        if(encon > 0):\n",
    "            print(\"Se ha encontrado la palabra\" + p + \" en la oración: \" + str(cont))\n",
    "\n",
    "for n in text_div:\n",
    "    encon = 0\n",
    "    encon = n.find('Moon')\n",
    "    if(encon > 0):\n",
    "        print(n)      \n",
    "\n",
    "cont = 0\n",
    "for n in text_div:\n",
    "    encon = 0\n",
    "    encon = text_div[cont].find('Celsius')\n",
    "    if(encon > 0):\n",
    "        n.replace('Celsius', 'C')\n",
    "        print(n)\n",
    "print(text_div)"
   ]
  },
  {
   "cell_type": "code",
   "execution_count": 45,
   "metadata": {},
   "outputs": [
    {
     "name": "stdout",
     "output_type": "stream",
     "text": [
      "Gravity Facts About Moon\n",
      "-------------------------------------------------------------------------------\n",
      "Planet: Earth\n",
      "gravity on ganymede: 1.6199999999999999 km/s\n"
     ]
    }
   ],
   "source": [
    "name = \"Moon\"\n",
    "gravity = 0.00162 # in kms\n",
    "planet = \"Earth\"\n",
    "\n",
    "titulo = f\"gravity facts about {name}\"\n",
    "plantilla = f\"\"\"Planet: {planet}\n",
    "Gravity on {name}: {gravity * 1000} km/s2\"\"\"\n",
    "\n",
    "print(titulo.title() +\n",
    "\"\\n-------------------------------------------------------------------------------\\n\" +\n",
    "plantilla)"
   ]
  },
  {
   "cell_type": "code",
   "execution_count": 49,
   "metadata": {},
   "outputs": [
    {
     "name": "stdout",
     "output_type": "stream",
     "text": [
      "Gravity Facts about Ganímedes\n",
      "-------------------------------------------------------------------------------\n",
      "Planet Name: Marte \n",
      "Gravity on Ganímedes: 0.00143 m/s2\n",
      "\n",
      "\n",
      "Gravity Facts about Ganímedes\n",
      "-------------------------------------------------------------------------------\n",
      "Planet Name: Marte \n",
      "Gravity on Ganímedes: 0.00143 m/s2\n"
     ]
    }
   ],
   "source": [
    "planeta = 'Marte '\n",
    "gravedad  = 0.00143\n",
    "nombre = 'Ganímedes'\n",
    "\n",
    "print(plantilla)\n",
    "\n",
    "plantilla = f\"\"\"\n",
    "\n",
    "Gravity Facts about {nombre}\n",
    "-------------------------------------------------------------------------------\n",
    "Planet Name: {planeta}\n",
    "Gravity on {nombre}: {gravedad} m/s2\"\"\"\n",
    "print(plantilla.format(nombre = nombre,planeta = planeta, gravedad = gravedad))"
   ]
  }
 ],
 "metadata": {
  "interpreter": {
   "hash": "248acb109adfed8dab10696a9c79d3fa365dc84474e271a49a749f61bf93e09c"
  },
  "kernelspec": {
   "display_name": "Python 3.10.2 ('env': venv)",
   "language": "python",
   "name": "python3"
  },
  "language_info": {
   "codemirror_mode": {
    "name": "ipython",
    "version": 3
   },
   "file_extension": ".py",
   "mimetype": "text/x-python",
   "name": "python",
   "nbconvert_exporter": "python",
   "pygments_lexer": "ipython3",
   "version": "3.10.2"
  },
  "orig_nbformat": 4
 },
 "nbformat": 4,
 "nbformat_minor": 2
}
