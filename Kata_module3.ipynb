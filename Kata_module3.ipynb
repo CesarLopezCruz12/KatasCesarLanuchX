{
 "cells": [
  {
   "cell_type": "code",
   "execution_count": 48,
   "metadata": {},
   "outputs": [
    {
     "name": "stdout",
     "output_type": "stream",
     "text": [
      "Velocidad registrada: 49 km/s\n",
      "     ¡¡¡...Advertencia...!!!\n",
      "        Asteroide acercandose a la tierra\n"
     ]
    }
   ],
   "source": [
    "vel_aste = input(\"Ingresa la velocidad del asteroide\")\n",
    "print(\"Velocidad registrada: \" + vel_aste + \" km/s\")\n",
    "if(int(vel_aste) > 25):\n",
    "    print(\"\"\"     ¡¡¡...Advertencia...!!!\n",
    "        Asteroide acercandose a la tierra\"\"\")\n",
    "else:\n",
    "    print(\"Planeta a salvo\")    "
   ]
  },
  {
   "cell_type": "code",
   "execution_count": 49,
   "metadata": {},
   "outputs": [
    {
     "name": "stdout",
     "output_type": "stream",
     "text": [
      "Velocidad registrada: 19 km/s\n",
      "Planeta a salvo\n"
     ]
    }
   ],
   "source": [
    "vel_aste = input(\"Ingresa la velocidad del asteroide\")\n",
    "print(\"Velocidad registrada: \" + vel_aste + \" km/s\")\n",
    "cielo = \"Rayooo!\"\n",
    "if(int(vel_aste) >= 20):\n",
    "    print(\"\"\"     ¡¡¡...Advertencia...!!!\n",
    "        Buscar asteroide por rayo de luz\"\"\")\n",
    "    cielo = input(\"Ve algún rayo?\")\n",
    "    if(cielo == \"Rayooo!\"):\n",
    "        print(\"\"\"     ¡¡¡...Advertencia...!!!\n",
    "        Asteroide encontrado, destruir\"\"\")\n",
    "    else:\n",
    "        print(\"\"\"     ¡¡¡...Advertencia...!!!\n",
    "            sigan buscando\"\"\")\n",
    "else:\n",
    "    print(\"Planeta a salvo\") "
   ]
  },
  {
   "cell_type": "code",
   "execution_count": null,
   "metadata": {},
   "outputs": [],
   "source": [
    "vel_aste = input(\"Ingresa la velocidad del asteroide\")\n",
    "print(\"Velocidad registrada: \" + vel_aste + \" km/s\")\n",
    "tam_aste = input(\"Ingresa el tamaño del asteroide en metros\")\n",
    "cielo = \"Rayooo!\"\n",
    "\n",
    "print(\"Velocidad registrada: \" + tam_aste + \" m\")\n",
    "\n",
    "if(int(vel_aste)>= 25 and int(tam_aste) > 20):\n",
    "    cielo = input(\"Ve algún rayo?\")\n",
    "    if(cielo == \"Rayooo!\"):\n",
    "        print(\"Huyan\")\n",
    "    else:\n",
    "        print(\"Sigan buscando\")\n",
    "elif(int(vel_aste)>= 25 and int(tam_aste) < 20):\n",
    "    print(\"Precaución\")\n",
    "    cielo = input(\"Ve algún rayo?\")\n",
    "    if(cielo == \"Rayooo!\"):\n",
    "        print(\"Vean como se desace\")\n",
    "    else:\n",
    "        print(\"Sigan buscando\")\n",
    "elif(int(vel_aste) < 25):\n",
    "    print(\"Planeta a salvo\") "
   ]
  }
 ],
 "metadata": {
  "interpreter": {
   "hash": "33541a670e8887513ebdf0f19cec6625b51694c5ef6b1c7e83282c54d5cd54e5"
  },
  "kernelspec": {
   "display_name": "Python 3.10.2 64-bit",
   "language": "python",
   "name": "python3"
  },
  "language_info": {
   "codemirror_mode": {
    "name": "ipython",
    "version": 3
   },
   "file_extension": ".py",
   "mimetype": "text/x-python",
   "name": "python",
   "nbconvert_exporter": "python",
   "pygments_lexer": "ipython3",
   "version": "3.10.2"
  },
  "orig_nbformat": 4
 },
 "nbformat": 4,
 "nbformat_minor": 2
}
